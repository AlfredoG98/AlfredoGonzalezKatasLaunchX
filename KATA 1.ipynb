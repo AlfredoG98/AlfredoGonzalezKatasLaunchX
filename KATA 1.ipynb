{
 "cells": [
  {
   "cell_type": "markdown",
   "metadata": {},
   "source": [
    "                                                                            Programas Kata 1"
   ]
  },
  {
   "cell_type": "markdown",
   "metadata": {},
   "source": [
    "Programa para mostrar fecha"
   ]
  },
  {
   "cell_type": "code",
   "execution_count": 16,
   "metadata": {},
   "outputs": [
    {
     "name": "stdout",
     "output_type": "stream",
     "text": [
      "Today's date is:2022-02-09\n"
     ]
    }
   ],
   "source": [
    "from datetime import date\n",
    "print(\"Today's date is:\" + str(date.today()))"
   ]
  },
  {
   "cell_type": "markdown",
   "metadata": {},
   "source": [
    "Programa para Convertir Unidades"
   ]
  },
  {
   "cell_type": "code",
   "execution_count": 15,
   "metadata": {},
   "outputs": [
    {
     "name": "stdout",
     "output_type": "stream",
     "text": [
      "Conversor de Parsec a Años Luz\n",
      "11 Parsec is:35.877159999999996 Lightyears\n"
     ]
    }
   ],
   "source": [
    "print(\"Conversor de Parsec a Años Luz\")\n",
    "Parsec= 11\n",
    "Lightyear= 3.26156*Parsec\n",
    "print(str(Parsec) +\" Parsec is:\"+str(Lightyear)+\" Lightyears\")"
   ]
  },
  {
   "cell_type": "code",
   "execution_count": 17,
   "metadata": {},
   "outputs": [
    {
     "name": "stdout",
     "output_type": "stream",
     "text": [
      "Bienvenido a la convertidora de parsec a años luz\n",
      "2 parsec, is 6.523112 lightyears\n"
     ]
    }
   ],
   "source": [
    "print(\"Bienvenido a la convertidora de parsec a años luz\")\n",
    "\n",
    "Parsec = input(\"¿Cuantos Parsec quiere convertir? \")\n",
    "\n",
    "lightyears = float(Parsec)*3.261556\n",
    "\n",
    "print(str(Parsec) + \" parsec, is \" + str(lightyears) + \" lightyears\")"
   ]
  }
 ],
 "metadata": {
  "interpreter": {
   "hash": "0ce85295773af0bfae033fa59b4603ef041a8722d4fdf1e87d2e2b48918eacf2"
  },
  "kernelspec": {
   "display_name": "Python 3.9.10 64-bit",
   "language": "python",
   "name": "python3"
  },
  "language_info": {
   "codemirror_mode": {
    "name": "ipython",
    "version": 3
   },
   "file_extension": ".py",
   "mimetype": "text/x-python",
   "name": "python",
   "nbconvert_exporter": "python",
   "pygments_lexer": "ipython3",
   "version": "3.9.10"
  },
  "orig_nbformat": 4
 },
 "nbformat": 4,
 "nbformat_minor": 2
}
