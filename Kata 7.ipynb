{
 "cells": [
  {
   "cell_type": "markdown",
   "metadata": {},
   "source": [
    "## Ejercicio 1: Creación de un bucle \"while\""
   ]
  },
  {
   "cell_type": "code",
   "execution_count": 7,
   "metadata": {},
   "outputs": [
    {
     "name": "stdout",
     "output_type": "stream",
     "text": [
      "['tacos', 'tacos', 'salsa', 'tortillas', 'sopes', 'chorizo', 'xami']\n"
     ]
    }
   ],
   "source": [
    "#creando la variable que ingresa el usuario y la de almacenar en lista\n",
    "new_planet= input(\"Escriba un planeta \")\n",
    "planets= [new_planet]\n",
    "#iniciamos ciclo while especificando que se termina al momento de que el usuario escribe done\n",
    "while new_planet.lower() != 'done':\n",
    "    #verificar los valores ingresados por el usuario y almacenamos en lista\n",
    "    if new_planet:\n",
    "        planets.append(new_planet)\n",
    "    new_planet= input('Ingrese un nuevo planeta o done para finalizar')\n",
    "\n",
    "#imprimir lista\n",
    "print(planets)"
   ]
  },
  {
   "cell_type": "markdown",
   "metadata": {},
   "source": [
    "## Ejercicio 2: Creación de un ciclo \"for\""
   ]
  },
  {
   "cell_type": "code",
   "execution_count": 8,
   "metadata": {},
   "outputs": [
    {
     "name": "stdout",
     "output_type": "stream",
     "text": [
      "tacos\n",
      "tacos\n",
      "salsa\n",
      "tortillas\n",
      "sopes\n",
      "chorizo\n",
      "xami\n"
     ]
    }
   ],
   "source": [
    "#para cada valor en planets\n",
    "for planet in planets:\n",
    "    #muestra el valor\n",
    "    print(planet)"
   ]
  }
 ],
 "metadata": {
  "interpreter": {
   "hash": "0ce85295773af0bfae033fa59b4603ef041a8722d4fdf1e87d2e2b48918eacf2"
  },
  "kernelspec": {
   "display_name": "Python 3.9.10 64-bit",
   "language": "python",
   "name": "python3"
  },
  "language_info": {
   "codemirror_mode": {
    "name": "ipython",
    "version": 3
   },
   "file_extension": ".py",
   "mimetype": "text/x-python",
   "name": "python",
   "nbconvert_exporter": "python",
   "pygments_lexer": "ipython3",
   "version": "3.9.10"
  },
  "orig_nbformat": 4
 },
 "nbformat": 4,
 "nbformat_minor": 2
}
