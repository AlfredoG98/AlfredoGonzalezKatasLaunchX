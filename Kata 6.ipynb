{
 "cells": [
  {
   "cell_type": "markdown",
   "metadata": {},
   "source": [
    "## Ejercicio1: Crear y usar listas de Python"
   ]
  },
  {
   "cell_type": "code",
   "execution_count": null,
   "metadata": {},
   "outputs": [],
   "source": [
    "# Crear lista de planetas\n",
    "planetas=['Mercurio', 'Venus', 'Tierra', 'Marte', 'Jupiter', 'Saturno', 'Urano', 'Neptuno']\n",
    "#imprimir lista y determinando su longitud\n",
    "print(planetas)\n",
    "print(\"Hay\", len(planetas), \"planetas en nuestro sistema solar\")\n",
    "\n",
    "# Agregamos a Plutón  mostramos el último elemento\n",
    "planetas.append(\"Pluton\")\n",
    "#mostrar el último elemento\n",
    "print(planetas[-1], \"es el ultimo planeta\")"
   ]
  },
  {
   "cell_type": "markdown",
   "metadata": {},
   "source": [
    "## Ejercicio 2: Trabajando con datos de una lista"
   ]
  },
  {
   "cell_type": "code",
   "execution_count": null,
   "metadata": {},
   "outputs": [],
   "source": [
    "planetas=['Mercurio', 'Venus', 'Tierra', 'Marte', 'Jupiter', 'Saturno', 'Urano', 'Neptuno']\n",
    "Userdata=input(\"Introduce (Con mayuscula la primera letra) el planeta que deseas buscar\")\n",
    "\n",
    "# Buscar el planeta ingresado por el usuario\n",
    "search= planetas.index(Userdata)\n",
    "\n",
    "# Muestra los planetas más cercanos al sol\n",
    "print(\"Con referencia al Sol, aquí se muestran los planetas más cercanos al Sol que: \"  + Userdata)\n",
    "print(planetas[0:search])\n",
    "\n",
    "# Muestra los planetas más lejanos al sol\n",
    "print(\"Con referencia al Sol, aquí se muestran los planetas más lejanos al Sol que:\"  + Userdata)\n",
    "print(planetas[search+1:])"
   ]
  }
 ],
 "metadata": {
  "interpreter": {
   "hash": "0ce85295773af0bfae033fa59b4603ef041a8722d4fdf1e87d2e2b48918eacf2"
  },
  "kernelspec": {
   "display_name": "Python 3.9.10 64-bit",
   "language": "python",
   "name": "python3"
  },
  "language_info": {
   "codemirror_mode": {
    "name": "ipython",
    "version": 3
   },
   "file_extension": ".py",
   "mimetype": "text/x-python",
   "name": "python",
   "nbconvert_exporter": "python",
   "pygments_lexer": "ipython3",
   "version": "3.9.10"
  },
  "orig_nbformat": 4
 },
 "nbformat": 4,
 "nbformat_minor": 2
}
