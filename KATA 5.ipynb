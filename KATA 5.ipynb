{
 "cells": [
  {
   "cell_type": "markdown",
   "metadata": {},
   "source": [
    "## Utilizar operadores aritméticos"
   ]
  },
  {
   "cell_type": "code",
   "execution_count": 1,
   "metadata": {},
   "outputs": [
    {
     "name": "stdout",
     "output_type": "stream",
     "text": [
      "La distancia entre los dos planetas es de 628949330 KM\n",
      "La distancia entre los dos planetas es de 390577533.93 Millas\n"
     ]
    }
   ],
   "source": [
    "Dplaneta1= int(149597870)\n",
    "Dplaneta2= int(778547200)\n",
    "\n",
    "D_planeta1_planeta2= abs(Dplaneta1 - Dplaneta2) \n",
    "D_en_millas= abs(D_planeta1_planeta2 * 0.621)\n",
    "print(\"La distancia entre los dos planetas es de \" + str(D_planeta1_planeta2) + \" KM\")\n",
    "print(\"La distancia entre los dos planetas es de \"+ str(D_en_millas) + \" Millas\")\n"
   ]
  },
  {
   "cell_type": "markdown",
   "metadata": {},
   "source": [
    " ## Convierte cadenas en números y usa valores absolutos"
   ]
  },
  {
   "cell_type": "code",
   "execution_count": 2,
   "metadata": {},
   "outputs": [
    {
     "name": "stdout",
     "output_type": "stream",
     "text": [
      "La distancia entre los dos planetas es de 628949330.0 KM\n",
      "La distancia entre los dos planetas es de 390577533.93 Millas\n"
     ]
    }
   ],
   "source": [
    "Dplaneta1= input(\"Inserte distancia entre el planeta 1 y el Sol en KM\")\n",
    "Dplaneta2= input(\"Inserte la distancia del planeta 2 al Sol en KM\")\n",
    "\n",
    "D_planeta1_planeta2= abs(float(Dplaneta1) - float(Dplaneta2))\n",
    "D_en_millas= abs(float(D_planeta1_planeta2) * 0.621)\n",
    "\n",
    "print(\"La distancia entre los dos planetas es de \" + str(D_planeta1_planeta2) + \" KM\")\n",
    "print(\"La distancia entre los dos planetas es de \"+ str(D_en_millas) + \" Millas\")\n"
   ]
  }
 ],
 "metadata": {
  "interpreter": {
   "hash": "0ce85295773af0bfae033fa59b4603ef041a8722d4fdf1e87d2e2b48918eacf2"
  },
  "kernelspec": {
   "display_name": "Python 3.9.10 64-bit",
   "language": "python",
   "name": "python3"
  },
  "language_info": {
   "codemirror_mode": {
    "name": "ipython",
    "version": 3
   },
   "file_extension": ".py",
   "mimetype": "text/x-python",
   "name": "python",
   "nbconvert_exporter": "python",
   "pygments_lexer": "ipython3",
   "version": "3.9.10"
  },
  "orig_nbformat": 4
 },
 "nbformat": 4,
 "nbformat_minor": 2
}
