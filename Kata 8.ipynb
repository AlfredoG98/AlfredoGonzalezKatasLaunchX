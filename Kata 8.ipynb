{
 "cells": [
  {
   "cell_type": "markdown",
   "metadata": {},
   "source": [
    "## Ejercicio 1: Creación de diccionarios de Python"
   ]
  },
  {
   "cell_type": "code",
   "execution_count": 7,
   "metadata": {},
   "outputs": [
    {
     "name": "stdout",
     "output_type": "stream",
     "text": [
      "El planeta Mars tiene 2 lunas.\n",
      "Mars tiene un diametro polar de: 6752 Km\n"
     ]
    }
   ],
   "source": [
    "# Ejercicio para almacenar datos de marte\n",
    "\n",
    "#crear diccionario denominado planet\n",
    "\n",
    "planet= {\n",
    "    'name' : 'Mars',\n",
    "    'moons' : 2\n",
    "}\n",
    "#Agregamos nuevos datos al diccionario\n",
    "planet['diameter (km)'] = {\n",
    "    'polar': 6752,\n",
    "    'equatorial': 6972\n",
    "}\n",
    "#imprimimos el nombre del planeta y su numero de lunas\n",
    "print(f\"El planeta {planet['name']} tiene {planet['moons']} lunas.\")\n",
    "#imprimimos el nombre del planeta y su diametro polar\n",
    "print(f\"{planet['name']} tiene un diametro polar de: {planet['diameter (km)']['polar']} Km\")\n"
   ]
  },
  {
   "cell_type": "markdown",
   "metadata": {},
   "source": [
    "## Ejercicio 2: Programación dinámica con diccionarios"
   ]
  },
  {
   "cell_type": "code",
   "execution_count": 12,
   "metadata": {},
   "outputs": [
    {
     "name": "stdout",
     "output_type": "stream",
     "text": [
      "17.833333333333332\n"
     ]
    }
   ],
   "source": [
    "# En este escenario, calcularás tanto el número total de lunas en el sistema solar como el número promedio de lunas que tiene un planeta.\n",
    "\n",
    "#creamos diccionario con el planeta y su numero de lunas\n",
    "planet_moons = {\n",
    "    'mercury': 0,\n",
    "    'venus': 0,\n",
    "    'earth': 1,\n",
    "    'mars': 2,\n",
    "    'jupiter': 79,\n",
    "    'saturn': 82,\n",
    "    'uranus': 27,\n",
    "    'neptune': 14,\n",
    "    'pluto': 5,\n",
    "    'haumea': 2,\n",
    "    'makemake': 1,\n",
    "    'eris': 1\n",
    "}\n",
    "#crear variables para almacenar lista de lunas y planetas\n",
    "moons= planet_moons.values()\n",
    "#determinamos la longitud de la lista con len\n",
    "planets=  len(planet_moons.keys())\n",
    "#creamos un ciclo for para recuperar valores\n",
    "total_moons = 0\n",
    "\n",
    "for moons in moons : \n",
    "    total_moons= total_moons + moons\n",
    "\n",
    "#obtenemos el promedio de lunas por planeta\n",
    "promedio= total_moons/planets\n",
    "\n",
    "print(promedio)\n"
   ]
  }
 ],
 "metadata": {
  "interpreter": {
   "hash": "0ce85295773af0bfae033fa59b4603ef041a8722d4fdf1e87d2e2b48918eacf2"
  },
  "kernelspec": {
   "display_name": "Python 3.9.10 64-bit",
   "language": "python",
   "name": "python3"
  },
  "language_info": {
   "codemirror_mode": {
    "name": "ipython",
    "version": 3
   },
   "file_extension": ".py",
   "mimetype": "text/x-python",
   "name": "python",
   "nbconvert_exporter": "python",
   "pygments_lexer": "ipython3",
   "version": "3.9.10"
  },
  "orig_nbformat": 4
 },
 "nbformat": 4,
 "nbformat_minor": 2
}
