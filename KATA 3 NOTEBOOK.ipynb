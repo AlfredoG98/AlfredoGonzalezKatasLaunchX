{
 "cells": [
  {
   "cell_type": "markdown",
   "metadata": {},
   "source": [
    "## Escribir declaraciones if, else, y elif"
   ]
  },
  {
   "cell_type": "markdown",
   "metadata": {},
   "source": [
    "## Emergencia de Asteroide"
   ]
  },
  {
   "cell_type": "code",
   "execution_count": 5,
   "metadata": {},
   "outputs": [
    {
     "name": "stdout",
     "output_type": "stream",
     "text": [
      "La velocidad del Asteroide no Presenta un Valor de Riesgo \n"
     ]
    }
   ],
   "source": [
    "VelAsteroid=input(\"Introduzca la lectura de Velocidad del Asteroide \")\n",
    "if float(VelAsteroid)>25:\n",
    "        print(\"Realizar un LLamado de Emergencia a Todos los Centros de Investigación, El Asteroide va a una velocidad Peligrosa \")\n",
    "else:\n",
    "        print(\"La velocidad del Asteroide no Presenta un Valor de Riesgo \")"
   ]
  },
  {
   "cell_type": "markdown",
   "metadata": {},
   "source": [
    "## Emergencia un Rayo de Luz"
   ]
  },
  {
   "cell_type": "code",
   "execution_count": 4,
   "metadata": {},
   "outputs": [
    {
     "name": "stdout",
     "output_type": "stream",
     "text": [
      "!Alerta a TODOS, un asteroide en la admosfera de la tierra se acerca, el asteroide genera un rayo de luz en el cielo busquenlo!\n"
     ]
    }
   ],
   "source": [
    "VelAsteroid= input(\"Introduzca la Lectura de Velocidad del Asteroide\")\n",
    "if float(VelAsteroid)>=20:\n",
    "        print(\"!Alerta a TODOS, un asteroide en la admosfera de la tierra se acerca, el asteroide genera un rayo de luz en el cielo busquenlo!\")\n",
    "else:\n",
    "        print(\"La velocidad del Asteroide no Presenta un Valor de Riesgo\")"
   ]
  },
  {
   "cell_type": "markdown",
   "metadata": {},
   "source": [
    "## Operadores and y or"
   ]
  },
  {
   "cell_type": "markdown",
   "metadata": {},
   "source": [
    "## Emergencia de Asteroide 2.0"
   ]
  },
  {
   "cell_type": "code",
   "execution_count": 13,
   "metadata": {},
   "outputs": [
    {
     "name": "stdout",
     "output_type": "stream",
     "text": [
      "!Alerta a TODOS, un asteroide en la admosfera de la tierra se acerca, el asteroide genera un rayo de luz en el cielo busquenlo!\n"
     ]
    }
   ],
   "source": [
    "Velasteroid=input(\"Introduzca la Lectura de Velocidad del Asteroide\")\n",
    "Diamasteroid=input(\"Introduzca el diametro Aproximado del Asteroide\")\n",
    "if float(VelAsteroid)>25 and float(Diamasteroid)>25  :\n",
    "        print(\"Realizar un LLamado de Emergencia a Todos los Centros de Investigación, El Asteroide va a una velocidad y de tamaño Peligroso\")\n",
    "elif float(VelAsteroid)>=20:\n",
    "        print(\"!Alerta a TODOS, un asteroide en la admosfera de la tierra se acerca, el asteroide genera un rayo de luz en el cielo busquenlo!\")\n",
    "elif float(Diamasteroid)<25:\n",
    "        print(\"Hoy es un Día Tranquilo\")\n",
    "else:\n",
    "        print(\"Hoy es un Dïa Tranquilo\")"
   ]
  }
 ],
 "metadata": {
  "interpreter": {
   "hash": "0ce85295773af0bfae033fa59b4603ef041a8722d4fdf1e87d2e2b48918eacf2"
  },
  "kernelspec": {
   "display_name": "Python 3.9.10 64-bit",
   "language": "python",
   "name": "python3"
  },
  "language_info": {
   "codemirror_mode": {
    "name": "ipython",
    "version": 3
   },
   "file_extension": ".py",
   "mimetype": "text/x-python",
   "name": "python",
   "nbconvert_exporter": "python",
   "pygments_lexer": "ipython3",
   "version": "3.9.10"
  },
  "orig_nbformat": 4
 },
 "nbformat": 4,
 "nbformat_minor": 2
}
